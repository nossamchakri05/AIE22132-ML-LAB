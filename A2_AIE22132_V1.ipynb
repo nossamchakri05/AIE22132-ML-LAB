{
 "cells": [
  {
   "cell_type": "code",
   "execution_count": 1,
   "id": "8183bd08-8bee-4092-9dba-e199cdcc430d",
   "metadata": {},
   "outputs": [
    {
     "name": "stdout",
     "output_type": "stream",
     "text": [
      "Vector 1:\n"
     ]
    },
    {
     "name": "stdin",
     "output_type": "stream",
     "text": [
      "Enter values of the vector :  1,2,3\n"
     ]
    },
    {
     "name": "stdout",
     "output_type": "stream",
     "text": [
      "Vector 2:\n"
     ]
    },
    {
     "name": "stdin",
     "output_type": "stream",
     "text": [
      "Enter values of the vector :  4,5,6\n"
     ]
    },
    {
     "name": "stdout",
     "output_type": "stream",
     "text": [
      "Euclidean distance for the given data is : 5.196152422706632\n",
      "Manhattan distance for the given data is : 9.0\n"
     ]
    }
   ],
   "source": [
    "# This program tells us the euclidian distance and the manhattan distance\n",
    "\n",
    "# The vectors are passed in the euclidean function and will be evaluated only based on the dinmesnions of both the passed instances to the function.\n",
    "def euclidean(a1, a2):\n",
    "    if len(a1) != len(a2):\n",
    "        raise ValueError(\"The Dimenssions of both the vectors must be same.\")\n",
    "    sumofsquares = sum((x - y) ** 2 for x, y in zip(a1, a2))\n",
    "    return sumofsquares ** 0.5\n",
    "\n",
    "# The vectors are passed in the manhattan function and will be evaluated only based on the dinmesnions of both the passed instances to the function.\n",
    "def manhattan(a1, a2):\n",
    "    if len(a1) != len(a2):\n",
    "        raise ValueError(\"The Dimenssions of both the vectors must be same.\")\n",
    "    \n",
    "    return sum(abs(x - y) for x, y in zip(a1, a2))\n",
    "\n",
    "def getvector():\n",
    "    vector = input(\"Enter values of the vector : \")\n",
    "    return [float(x.strip()) for x in vector.split(',')]\n",
    "    \n",
    "print(\"Vector 1:\")\n",
    "V1 = getvector()\n",
    "\n",
    "print(\"Vector 2:\")\n",
    "V2 = getvector()\n",
    "\n",
    "print(\"Euclidean distance for the given data is :\", euclidean(V1, V2))\n",
    "print(\"Manhattan distance for the given data is :\", manhattan(V1, V2))\n"
   ]
  },
  {
   "cell_type": "code",
   "execution_count": 2,
   "id": "7ccb3ab7-85d4-4f5a-b051-1a1e28e64d13",
   "metadata": {},
   "outputs": [
    {
     "name": "stdin",
     "output_type": "stream",
     "text": [
      "Enter the number of training data points:  4\n",
      "Enter the number of test data points:  2\n",
      "Enter the number of features:  2\n"
     ]
    },
    {
     "name": "stdout",
     "output_type": "stream",
     "text": [
      "Enter training data points i.e., features and label :\n"
     ]
    },
    {
     "name": "stdin",
     "output_type": "stream",
     "text": [
      " 1.0 1.5 0\n",
      " 2.0 2.5 1\n",
      " 3.0 3.5 0\n",
      " 4.0 4.5 1\n"
     ]
    },
    {
     "name": "stdout",
     "output_type": "stream",
     "text": [
      "Enter test data points i.e.,features only):\n"
     ]
    },
    {
     "name": "stdin",
     "output_type": "stream",
     "text": [
      " 5.0 5.5\n",
      " 6.0 6.5\n",
      "Enter the value of k:  3\n"
     ]
    },
    {
     "name": "stdout",
     "output_type": "stream",
     "text": [
      "The Predictions for the given data and test data : [1, 1]\n"
     ]
    }
   ],
   "source": [
    "# The label values are passed in the euclidean function and will be evaluated only based on the dinmesnions of both the passed instances to the function.\n",
    "def euclidean(a1, a2):\n",
    "    distance = 0\n",
    "    for i in range(len(a1)):\n",
    "        distance += (a1[i] - a2[i]) ** 2\n",
    "    return distance ** 0.5\n",
    "\n",
    "# The training data nad the testing data is inputted along with the k value in the function knnclassifier and in this function we find euclidian distance \n",
    "#  b/w the test point and all the training points,find nearest neighbours and count occurances of each label and print most common label for prediction \n",
    "def knnclassifier(X_train, y_train, X_test, k):\n",
    "    y_pred = []\n",
    "    for test_point in X_test:\n",
    "        distances = [euclidean(test_point, train_point) for train_point in X_train]\n",
    "        nearest_indices = sorted(range(len(distances)), key=lambda i: distances[i])[:k]\n",
    "        k_nearest_labels = [y_train[i] for i in nearest_indices]\n",
    "        label_counts = {}\n",
    "        for label in k_nearest_labels:\n",
    "            if label in label_counts:\n",
    "                label_counts[label] += 1\n",
    "            else:\n",
    "                label_counts[label] = 1\n",
    "        most_common_label = max(label_counts, key=label_counts.get)\n",
    "        y_pred.append(most_common_label)\n",
    "    return y_pred\n",
    "\n",
    "def getinput():\n",
    "    \"\"\"Get user input for data points and k.\"\"\"\n",
    "    num_train = int(input(\"Enter the number of training data points: \"))\n",
    "    num_test = int(input(\"Enter the number of test data points: \"))\n",
    "    num_features = int(input(\"Enter the number of features: \"))\n",
    "    X_train = []\n",
    "    y_train = []\n",
    "    print(\"Enter training data points i.e., features and label :\")\n",
    "    for _ in range(num_train):\n",
    "        features = list(map(float, input().split()))\n",
    "        X_train.append(features[:-1])\n",
    "        y_train.append(int(features[-1]))\n",
    "    X_test = []\n",
    "    print(\"Enter test data points i.e.,features only):\")\n",
    "    for _ in range(num_test):\n",
    "        features = list(map(float, input().split()))\n",
    "        X_test.append(features)\n",
    "    k = int(input(\"Enter the value of k: \"))\n",
    "    return X_train, y_train, X_test, k\n",
    "\n",
    "def main():\n",
    "    X_train, y_train, X_test, k = getinput()\n",
    "    predictions = knnclassifier(X_train, y_train, X_test, k)\n",
    "    print(\"The Predictions for the given data and test data :\", predictions)\n",
    "\n",
    "if __name__ == \"__main__\":\n",
    "    main()\n"
   ]
  },
  {
   "cell_type": "code",
   "execution_count": 3,
   "id": "d75ed09f-3f92-44f0-8c86-d837da661f26",
   "metadata": {},
   "outputs": [
    {
     "name": "stdin",
     "output_type": "stream",
     "text": [
      "Enter the total number of samples:  3\n",
      "Enter the total number of categorical features:  2\n"
     ]
    },
    {
     "name": "stdout",
     "output_type": "stream",
     "text": [
      "Enter the complete categorical data:\n"
     ]
    },
    {
     "name": "stdin",
     "output_type": "stream",
     "text": [
      "Enter feature 1 for sample 1:  red\n",
      "Enter feature 2 for sample 1:  square\n",
      "Enter feature 1 for sample 2:  blue\n",
      "Enter feature 2 for sample 2:  circle\n",
      "Enter feature 1 for sample 3:  red\n",
      "Enter feature 2 for sample 3:  square\n"
     ]
    },
    {
     "name": "stdout",
     "output_type": "stream",
     "text": [
      "\n",
      "Encoded data:\n",
      "[0, 1]\n",
      "[2, 3]\n",
      "[0, 1]\n",
      "\n",
      "Label map:\n",
      "red: 0\n",
      "square: 1\n",
      "blue: 2\n",
      "circle: 3\n"
     ]
    }
   ],
   "source": [
    "# The function labelencoding converts the categorical variables to numeric using label encoding\n",
    "\n",
    "def labelencoding(data):\n",
    "    labelmap = {}\n",
    "    encodeddata = []\n",
    "    nextlabel = 0\n",
    "    for row in data:\n",
    "        encodedrow = []\n",
    "        for value in row:\n",
    "            if value not in labelmap:\n",
    "                labelmap[value] = nextlabel\n",
    "                nextlabel += 1\n",
    "            encodedrow.append(labelmap[value])\n",
    "        encodeddata.append(encodedrow)\n",
    "    return encodeddata, labelmap\n",
    "\n",
    "# This fucntion getinput is used to give the input of the categorical values\n",
    "def get_input():\n",
    "    samples = int(input(\"Enter the total number of samples: \"))\n",
    "    features = int(input(\"Enter the total number of categorical features: \"))\n",
    "    data = []\n",
    "    print(\"Enter the complete categorical data:\")\n",
    "    for _ in range(samples):\n",
    "        sample = []\n",
    "        for j in range(features):\n",
    "            feature = input(f\"Enter feature {j + 1} for sample {_ + 1}: \")\n",
    "            sample.append(feature)\n",
    "        data.append(sample)\n",
    "    return data\n",
    "\n",
    "\n",
    "def main():\n",
    "    data = get_input()\n",
    "    encodeddata, labelmap = labelencoding(data)\n",
    "    print(\"\\nEncoded data:\")\n",
    "    for row in encodeddata:\n",
    "        print(row)\n",
    "    print(\"\\nLabel map:\")\n",
    "    for label, code in labelmap.items():\n",
    "        print(f\"{label}: {code}\")\n",
    "\n",
    "if __name__ == \"__main__\":\n",
    "    main()\n"
   ]
  },
  {
   "cell_type": "code",
   "execution_count": 4,
   "id": "c40e16af-f6c7-4414-bce9-375664cce3d5",
   "metadata": {},
   "outputs": [
    {
     "name": "stdin",
     "output_type": "stream",
     "text": [
      "Enter the total number of samples:  5\n",
      "Enter the total number of categorical features:  3\n"
     ]
    },
    {
     "name": "stdout",
     "output_type": "stream",
     "text": [
      "Enter complete categorical data:\n"
     ]
    },
    {
     "name": "stdin",
     "output_type": "stream",
     "text": [
      "Enter feature 1 for sample 1:  red\n",
      "Enter feature 2 for sample 1:  Square\n",
      "Enter feature 3 for sample 1:  two\n",
      "Enter feature 1 for sample 2:  blu\n",
      "Enter feature 2 for sample 2:  circle\n",
      "Enter feature 3 for sample 2:  one\n",
      "Enter feature 1 for sample 3:  green\n",
      "Enter feature 2 for sample 3:  rectangle\n",
      "Enter feature 3 for sample 3:  three\n",
      "Enter feature 1 for sample 4:  red\n",
      "Enter feature 2 for sample 4:  circle\n",
      "Enter feature 3 for sample 4:  four\n",
      "Enter feature 1 for sample 5:  blu\n",
      "Enter feature 2 for sample 5:  circle\n",
      "Enter feature 3 for sample 5:  two\n"
     ]
    },
    {
     "name": "stdout",
     "output_type": "stream",
     "text": [
      "\n",
      "Encoded data:\n",
      "[0, 0, 0, 1, 0, 1, 0, 0, 1, 0]\n",
      "[1, 1, 0, 0, 0, 0, 0, 1, 0, 0]\n",
      "[0, 0, 1, 0, 1, 0, 0, 0, 0, 1]\n",
      "[0, 0, 0, 0, 0, 1, 1, 1, 0, 0]\n",
      "[0, 1, 0, 1, 0, 0, 0, 1, 0, 0]\n",
      "\n",
      "Unique values:\n",
      "['one', 'blu', 'green', 'two', 'rectangle', 'red', 'four', 'circle', 'Square', 'three']\n"
     ]
    }
   ],
   "source": [
    "# The data parameter is passed in the fucntion onehotencoding and this performs the one hot encoding \n",
    "def onehotencoding(data):\n",
    "    values = set()\n",
    "    for row in data:\n",
    "        for value in row:\n",
    "            values.add(value)\n",
    "    values = list(values)\n",
    "    encodeddata = []\n",
    "    \n",
    "    for row in data:\n",
    "        encodedrow = []\n",
    "        for value in values:\n",
    "            if value in row:\n",
    "                encodedrow.append(1)\n",
    "            else:\n",
    "                encodedrow.append(0)\n",
    "        encodeddata.append(encodedrow)\n",
    "    \n",
    "    return encodeddata, values\n",
    "\n",
    "# This fucntion getinput is used to give the input of the categorical values\n",
    "def getinput():\n",
    "    samples = int(input(\"Enter the total number of samples: \"))\n",
    "    features = int(input(\"Enter the total number of categorical features: \"))\n",
    "    data = []\n",
    "    print(\"Enter complete categorical data:\")\n",
    "    for _ in range(samples):\n",
    "        sample = []\n",
    "        for j in range(features):\n",
    "            feature = input(f\"Enter feature {j + 1} for sample {_ + 1}: \")\n",
    "            sample.append(feature)\n",
    "        data.append(sample)\n",
    "    return data\n",
    "\n",
    "\n",
    "def main():\n",
    "    data = getinput()\n",
    "    encodeddata, values = onehotencoding(data)  \n",
    "    print(\"\\nEncoded data:\")\n",
    "    for row in encodeddata:\n",
    "        print(row) \n",
    "    print(\"\\nUnique values:\")\n",
    "    print(values)\n",
    "\n",
    "if __name__ == \"__main__\":\n",
    "    main()\n"
   ]
  },
  {
   "cell_type": "code",
   "execution_count": null,
   "id": "9b149b9b-7477-4a57-ab87-0eaf37fd85c2",
   "metadata": {},
   "outputs": [],
   "source": []
  }
 ],
 "metadata": {
  "kernelspec": {
   "display_name": "Python 3 (ipykernel)",
   "language": "python",
   "name": "python3"
  },
  "language_info": {
   "codemirror_mode": {
    "name": "ipython",
    "version": 3
   },
   "file_extension": ".py",
   "mimetype": "text/x-python",
   "name": "python",
   "nbconvert_exporter": "python",
   "pygments_lexer": "ipython3",
   "version": "3.10.8"
  }
 },
 "nbformat": 4,
 "nbformat_minor": 5
}
