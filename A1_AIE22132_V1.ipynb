{
 "cells": [
  {
   "cell_type": "markdown",
   "id": "15744724-d202-4f8d-8a04-a68a32321de8",
   "metadata": {},
   "source": [
    "QUESTION-1"
   ]
  },
  {
   "cell_type": "code",
   "execution_count": 1,
   "id": "a34eba35-3fe4-4d0a-b0ab-512e69490e7c",
   "metadata": {},
   "outputs": [
    {
     "name": "stdin",
     "output_type": "stream",
     "text": [
      "Enter the string for finding the count of the Vowels and Consonants:  HELLO\n"
     ]
    },
    {
     "name": "stdout",
     "output_type": "stream",
     "text": [
      "The total number of Vowels: 2\n",
      "The total number of Consonants: 3\n"
     ]
    }
   ],
   "source": [
    "# This program counts the number of vowels and consonants in a given string\n",
    "\n",
    "def count(input_string):\n",
    "    input_string = input_string.lower()\n",
    "    vowel_set = set(\"aeiou\") \n",
    "    vowels_count = 0\n",
    "    consonants_count = 0\n",
    "    for char in input_string:\n",
    "        if char.isalpha():\n",
    "            if char in vowel_set:\n",
    "                vowels_count += 1\n",
    "            else:\n",
    "                consonants_count += 1\n",
    "    return vowels_count, consonants_count\n",
    "\n",
    "if __name__ == \"__main__\":\n",
    "\n",
    "    # Get user input for the string\n",
    "    string = input(\"Enter the string for finding the count of the Vowels and Consonants: \")\n",
    "\n",
    "    # Call the function count and passes the instance string\n",
    "    vowels, consonants = count(string)\n",
    "\n",
    "    print(\"The total number of Vowels:\", vowels)\n",
    "    print(\"The total number of Consonants:\", consonants)\n"
   ]
  },
  {
   "cell_type": "markdown",
   "id": "ee6fd1df-7988-4c59-b715-132a7c5a4552",
   "metadata": {},
   "source": [
    "QUESTION-2"
   ]
  },
  {
   "cell_type": "code",
   "execution_count": 2,
   "id": "c9ba23cb-cbd7-476f-b440-9a1aae91a78f",
   "metadata": {},
   "outputs": [
    {
     "name": "stdout",
     "output_type": "stream",
     "text": [
      "Enter the details of Matrix A:\n"
     ]
    },
    {
     "name": "stdin",
     "output_type": "stream",
     "text": [
      "Enter the number of rows:  2\n",
      "Enter the number of columns:  3\n",
      "Enter element at position (1, 1):  1\n",
      "Enter element at position (1, 2):  2\n",
      "Enter element at position (1, 3):  3\n",
      "Enter element at position (2, 1):  4\n",
      "Enter element at position (2, 2):  5\n",
      "Enter element at position (2, 3):  6\n"
     ]
    },
    {
     "name": "stdout",
     "output_type": "stream",
     "text": [
      "Enter the details of Matrix B:\n"
     ]
    },
    {
     "name": "stdin",
     "output_type": "stream",
     "text": [
      "Enter the number of rows:  3\n",
      "Enter the number of columns:  2\n",
      "Enter element at position (1, 1):  7\n",
      "Enter element at position (1, 2):  8\n",
      "Enter element at position (2, 1):  9\n",
      "Enter element at position (2, 2):  10\n",
      "Enter element at position (3, 1):  11\n",
      "Enter element at position (3, 2):  12\n"
     ]
    },
    {
     "name": "stdout",
     "output_type": "stream",
     "text": [
      "The product of both the matrices is AB:\n",
      "[58.0, 64.0]\n",
      "[139.0, 154.0]\n"
     ]
    }
   ],
   "source": [
    "# The program takes the input of two matrices A, B and check if they both get multiplied and find A*B \n",
    "\n",
    "# Function that takes input of the both the matrixes.\n",
    "def input_matrix():\n",
    "    rows = int(input(\"Enter the number of rows: \"))\n",
    "    cols = int(input(\"Enter the number of columns: \"))\n",
    "    matrix = []\n",
    "    for i in range(rows):\n",
    "        row = []\n",
    "        for j in range(cols):\n",
    "            element = float(input(f\"Enter element at position ({i+1}, {j+1}): \"))\n",
    "            row.append(element)\n",
    "        matrix.append(row)\n",
    "    return matrix\n",
    "\n",
    "# Function that multiples the inputted matrix.\n",
    "def multiply_matrices(matrix_a, matrix_b):\n",
    "    rows_a, cols_a = len(matrix_a), len(matrix_a[0])\n",
    "    rows_b, cols_b = len(matrix_b), len(matrix_b[0])\n",
    "    if cols_a != rows_b:\n",
    "        return \"Error: Matrices are not multipliable.\"\n",
    "    result_matrix = [[0 for _ in range(cols_b)] for _ in range(rows_a)]\n",
    "    for i in range(rows_a):\n",
    "        for j in range(cols_b):\n",
    "            for k in range(cols_a):\n",
    "                result_matrix[i][j] += matrix_a[i][k] * matrix_b[k][j]\n",
    "\n",
    "    return result_matrix\n",
    "\n",
    "if __name__ == \"__main__\":\n",
    "    print(\"Enter the details of Matrix A:\")\n",
    "    a = input_matrix()\n",
    "    print(\"Enter the details of Matrix B:\")\n",
    "    b = input_matrix()\n",
    "\n",
    "# Calling the function and passing both the matrices in it\n",
    "    result = multiply_matrices(a,b)\n",
    "# Printing the error message if not applicable\n",
    "    if isinstance(result, str):\n",
    "        print(result)\n",
    "    else:\n",
    "        print(\"The product of both the matrices is AB:\")\n",
    "        for row in result:\n",
    "            print(row)\n"
   ]
  },
  {
   "cell_type": "markdown",
   "id": "93a19aa6-24fd-4267-97b0-1b289314299c",
   "metadata": {},
   "source": [
    "QUESTION-3"
   ]
  },
  {
   "cell_type": "code",
   "execution_count": 3,
   "id": "6d726cd0-78d2-45ac-94ec-c64945cb5822",
   "metadata": {},
   "outputs": [
    {
     "name": "stdin",
     "output_type": "stream",
     "text": [
      "Enter elements in the list:  1 2 3 4 5\n",
      "Enter elements in the list:  5 3 8 9 \n"
     ]
    },
    {
     "name": "stdout",
     "output_type": "stream",
     "text": [
      "Number of Common Elements in both the lists are: 2\n"
     ]
    }
   ],
   "source": [
    "# This program finds the number of common elements in both the integer lists.\n",
    "\n",
    "# Function to take the user input of only integer; if not an integer, return an error.\n",
    "def listinput():\n",
    "    while True:\n",
    "        try:\n",
    "            input_str = input(\"Enter elements in the list: \")\n",
    "            integer_list = [int(x) for x in input_str.split()]\n",
    "            return integer_list\n",
    "        except ValueError:\n",
    "            print(\"Error: Only integer values are allowed.\")\n",
    "\n",
    "# Function to find the count of the common elements in both the lists.\n",
    "def common(list_a, list_b):\n",
    "    common_elements = set(list_a) & set(list_b)\n",
    "    return len(common_elements)\n",
    "\n",
    "if __name__ == \"__main__\":\n",
    "    # Calling the function get_user_input and creating two instances\n",
    "    a = listinput()\n",
    "    b = listinput()\n",
    "    # Calling the function common and passing the instances\n",
    "    common_count = common(a, b)\n",
    "    print(f\"Number of Common Elements in both the lists are: {common_count}\")\n"
   ]
  },
  {
   "cell_type": "markdown",
   "id": "b0616ed2-44cc-435e-810b-d126e7d7a148",
   "metadata": {},
   "source": [
    "QUESTION-4"
   ]
  },
  {
   "cell_type": "code",
   "execution_count": 4,
   "id": "f70f397a-57a9-421c-8632-08becd637811",
   "metadata": {},
   "outputs": [
    {
     "name": "stdout",
     "output_type": "stream",
     "text": [
      "Enter the details of the matrix:\n"
     ]
    },
    {
     "name": "stdin",
     "output_type": "stream",
     "text": [
      "Enter the number of rows:  4\n",
      "Enter the number of columns:  4\n",
      "Enter element at position (1, 1):  10 \n",
      "Enter element at position (1, 2):  20\n",
      "Enter element at position (1, 3):  30\n",
      "Enter element at position (1, 4):  40\n",
      "Enter element at position (2, 1):  50\n",
      "Enter element at position (2, 2):  60\n",
      "Enter element at position (2, 3):  70\n",
      "Enter element at position (2, 4):  80\n",
      "Enter element at position (3, 1):  90\n",
      "Enter element at position (3, 2):  100\n",
      "Enter element at position (3, 3):  110\n",
      "Enter element at position (3, 4):  120\n",
      "Enter element at position (4, 1):  130\n",
      "Enter element at position (4, 2):  140\n",
      "Enter element at position (4, 3):  150\n",
      "Enter element at position (4, 4):  160\n"
     ]
    },
    {
     "name": "stdout",
     "output_type": "stream",
     "text": [
      "\n",
      "Transposed Matrix:\n",
      "[10.0, 50.0, 90.0, 130.0]\n",
      "[20.0, 60.0, 100.0, 140.0]\n",
      "[30.0, 70.0, 110.0, 150.0]\n",
      "[40.0, 80.0, 120.0, 160.0]\n"
     ]
    }
   ],
   "source": [
    "# This program takes the input of matrix and finds the transpose of it\n",
    "\n",
    "# Function to input a matrix\n",
    "def inputmatrix():\n",
    "    rows = int(input(\"Enter the number of rows: \"))\n",
    "    cols = int(input(\"Enter the number of columns: \"))\n",
    "    matrix = []\n",
    "    for i in range(rows):\n",
    "        row = []\n",
    "        for j in range(cols):\n",
    "            element = float(input(f\"Enter element at position ({i+1}, {j+1}): \"))\n",
    "            row.append(element)\n",
    "        matrix.append(row)\n",
    "    return matrix\n",
    "\n",
    "# Function to calculate the transpose of a matrix\n",
    "def transpose(matrix):\n",
    "    rows, cols = len(matrix), len(matrix[0])\n",
    "    transposed_matrix = [[0 for _ in range(rows)] for _ in range(cols)]\n",
    "    for i in range(rows):\n",
    "        for j in range(cols):\n",
    "            transposed_matrix[j][i] = matrix[i][j]\n",
    "    return transposed_matrix\n",
    "\n",
    "if __name__ == \"__main__\":\n",
    "    # Calling the function inputmatrix\n",
    "    print(\"Enter the details of the matrix:\")\n",
    "    matrix= inputmatrix()\n",
    "    # Calculate the transpose of the matrix\n",
    "    transpose = transpose(matrix)\n",
    "    print(\"\\nTransposed Matrix:\")\n",
    "    for row in transpose:\n",
    "        print(row)\n"
   ]
  },
  {
   "cell_type": "code",
   "execution_count": null,
   "id": "bfad5d1c-921f-4251-b603-1aac5d87e080",
   "metadata": {},
   "outputs": [],
   "source": []
  }
 ],
 "metadata": {
  "kernelspec": {
   "display_name": "Python 3 (ipykernel)",
   "language": "python",
   "name": "python3"
  },
  "language_info": {
   "codemirror_mode": {
    "name": "ipython",
    "version": 3
   },
   "file_extension": ".py",
   "mimetype": "text/x-python",
   "name": "python",
   "nbconvert_exporter": "python",
   "pygments_lexer": "ipython3",
   "version": "3.10.8"
  }
 },
 "nbformat": 4,
 "nbformat_minor": 5
}
